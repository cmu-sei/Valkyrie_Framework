{
 "cells": [
  {
   "cell_type": "code",
   "execution_count": null,
   "id": "7c4ab2c7-44c6-46b0-82b9-4d787cd0431d",
   "metadata": {},
   "outputs": [],
   "source": [
    "import ingest\n",
    "\n",
    "# BUILD BRONZE DATA LAYER\n",
    "# SEE README.MD FOR ADDITIONAL OPTIONS\n",
    "ingest.build_bronze_layer(\n",
    "    src_loc=\"data/raw/data\", \n",
    "    bronze_loc=\"data/bronze/zeek/raw/parquet/mc3\"\n",
    "    )"
   ]
  },
  {
   "cell_type": "code",
   "execution_count": null,
   "id": "d57fd4f2-572d-4fac-8d36-d942ed05e893",
   "metadata": {},
   "outputs": [],
   "source": [
    "# CREATE FILTERED FILES\n",
    "# SEE README.MD FOR ADDITIONAL OPTIONS\n",
    "ingest.build_filter_files(\n",
    "    src_loc = \"data/bronze/zeek/raw/parquet/mc3\",\n",
    "    dest_exclude_file = \"data/bronze/zeek/filtered/parquet\",\n",
    "    port_filter = [80, 443]\n",
    "    )"
   ]
  },
  {
   "cell_type": "code",
   "execution_count": null,
   "id": "8a0dfe2d-6251-4e4d-91a8-c32ca20d27d0",
   "metadata": {},
   "outputs": [],
   "source": [
    "# BUILD DELTA FILES\n",
    "ingest.build_delta_files(src_loc = \"data/bronze/zeek/filtered/parquet\",\n",
    "                         delta_file_loc = \"data/silver/delta\")"
   ]
  },
  {
   "cell_type": "code",
   "execution_count": null,
   "id": "c2a6b18e-7bc4-4174-b48b-c570f7a6665c",
   "metadata": {},
   "outputs": [],
   "source": [
    "import beacon\n",
    "\n",
    "# AGGLOMERATIVE CLUSTERING\n",
    "# SLOW BEACON\n",
    "beacon.agglomerative_clustering(\n",
    "    delta_file = \"data/silver/delta/delta_1655318432.parquet\",\n",
    "    delta_column = \"delta_mins\",\n",
    "    max_variance = .12,\n",
    "    min_records = 10,\n",
    "    cluster_factor = .70,\n",
    "    line_amounts = [1],\n",
    "    min_delta_time = 1200000\n",
    ")"
   ]
  },
  {
   "cell_type": "code",
   "execution_count": null,
   "id": "92cd1dae-7856-4b92-b4d3-b8223a5f61e0",
   "metadata": {},
   "outputs": [],
   "source": [
    "import beacon\n",
    "\n",
    "# DBSCAN\n",
    "# SLOW BEACON\n",
    "beacon.dbscan_clustering(\n",
    "    delta_file = \"data/silver/delta/delta_1655318432.parquet\",,\n",
    "    delta_column = \"delta_mins\",\n",
    "    spans = [[0, 5], [2, 15], [15, 35], [30, 60]],\n",
    "    minimum_delta = 20,\n",
    "    minimum_points_in_cluster = 10,\n",
    "    minimum_likelihood = 0.70\n",
    ")"
   ]
  },
  {
   "cell_type": "code",
   "execution_count": null,
   "id": "fd254a2d-04d1-4430-8787-eb5e3059c281",
   "metadata": {},
   "outputs": [],
   "source": [
    "import beacon\n",
    "\n",
    "# DBSCAN by VARIANCE\n",
    "# SLOW BEACON\n",
    "beacon.dbscan_by_variance(\n",
    "    delta_file = \"gcd_data_mc3/silver/delta/delta_1656358236.parquet\",\n",
    "    delta_column = \"delta_mins\",\n",
    "    avg_delta = 20,\n",
    "    conn_cnt = 10,\n",
    "    span_avg = 15,\n",
    "    variance_per = 15,\n",
    "    minimum_likelihood = 70\n",
    ")"
   ]
  },
  {
   "cell_type": "code",
   "execution_count": null,
   "id": "2d130f2a-4fdd-49fc-82a4-01238cb19c11",
   "metadata": {},
   "outputs": [],
   "source": [
    "# INSTALL IF PYARROW AND FASTPARQUET ARE MISSING\n",
    "pip install pyarrow\n",
    "pip install fastparquet"
   ]
  }
 ],
 "metadata": {
  "kernelspec": {
   "display_name": "Python 3.10.2 64-bit",
   "language": "python",
   "name": "python3"
  },
  "language_info": {
   "codemirror_mode": {
    "name": "ipython",
    "version": 3
   },
   "file_extension": ".py",
   "mimetype": "text/x-python",
   "name": "python",
   "nbconvert_exporter": "python",
   "pygments_lexer": "ipython3",
   "version": "3.10.2"
  },
  "vscode": {
   "interpreter": {
    "hash": "a5eba9825ff6db96d924522302b622871c6aa1d7428eeddff3a6a45c93f44b70"
   }
  }
 },
 "nbformat": 4,
 "nbformat_minor": 5
}
